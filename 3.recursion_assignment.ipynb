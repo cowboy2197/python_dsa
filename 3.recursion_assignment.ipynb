{
 "cells": [
  {
   "cell_type": "markdown",
   "id": "da57b01b",
   "metadata": {},
   "source": [
    "# 1. geometric sum\n",
    "1+ 1/2 + 1/2^2 + 1/2^3.....1/2^k"
   ]
  },
  {
   "cell_type": "code",
   "execution_count": null,
   "id": "ce3def50",
   "metadata": {},
   "outputs": [],
   "source": [
    "def geoSum(k):\n",
    "    if(k==0):\n",
    "        return 1\n",
    "    smallResult=geoSum(k-1)\n",
    "    result=(1/(2**k))+smallResult\n",
    "    return result\n",
    "geoSum(2)"
   ]
  },
  {
   "cell_type": "markdown",
   "id": "0730fe40",
   "metadata": {},
   "source": [
    "# 2. check palindrome\n",
    " ex-racecar=true abc=false"
   ]
  },
  {
   "cell_type": "code",
   "execution_count": 8,
   "id": "0fda6eff",
   "metadata": {},
   "outputs": [
    {
     "data": {
      "text/plain": [
       "True"
      ]
     },
     "execution_count": 8,
     "metadata": {},
     "output_type": "execute_result"
    }
   ],
   "source": [
    "def checkPalindrome(s):\n",
    "    if(len(s)==0):\n",
    "        return True\n",
    "    if(s[0]!=s[len(s)-1]):\n",
    "        return False\n",
    "    else:\n",
    "        return checkPalindrome(s[1:len(s)-1])\n",
    "checkPalindrome('raceeeeeeecar')"
   ]
  },
  {
   "cell_type": "markdown",
   "id": "5af285c2",
   "metadata": {},
   "source": [
    "# 3. sum of digits\n",
    "ex-12345=15"
   ]
  },
  {
   "cell_type": "code",
   "execution_count": 10,
   "id": "0d407bbe",
   "metadata": {},
   "outputs": [
    {
     "data": {
      "text/plain": [
       "15"
      ]
     },
     "execution_count": 10,
     "metadata": {},
     "output_type": "execute_result"
    }
   ],
   "source": [
    "def sumOfDigits(n):\n",
    "    if(n<10):\n",
    "        return n\n",
    "    smallresult=sumOfDigits(n//10)\n",
    "    result=(n%10)+smallresult\n",
    "    return result\n",
    "sumOfDigits(123450)"
   ]
  },
  {
   "cell_type": "markdown",
   "id": "db3375b8",
   "metadata": {},
   "source": [
    "# 4. multiplication m,n recursively"
   ]
  },
  {
   "cell_type": "code",
   "execution_count": 11,
   "id": "337a3943",
   "metadata": {},
   "outputs": [
    {
     "data": {
      "text/plain": [
       "10"
      ]
     },
     "execution_count": 11,
     "metadata": {},
     "output_type": "execute_result"
    }
   ],
   "source": [
    "def recMultiplication(m,n):\n",
    "    if(n==1):\n",
    "        return m\n",
    "    smallresult=recMultiplication(m,n-1)\n",
    "    result=m+smallresult\n",
    "    return result\n",
    "recMultiplication(2,5)"
   ]
  },
  {
   "cell_type": "markdown",
   "id": "116930c2",
   "metadata": {},
   "source": [
    "# 5.count zeros in a no\n",
    "ex-120304=2"
   ]
  },
  {
   "cell_type": "code",
   "execution_count": 12,
   "id": "e5c7ceb5",
   "metadata": {},
   "outputs": [
    {
     "data": {
      "text/plain": [
       "3"
      ]
     },
     "execution_count": 12,
     "metadata": {},
     "output_type": "execute_result"
    }
   ],
   "source": [
    "def countZeros(n):\n",
    "    if(n<=9 and n==0):\n",
    "        return 1\n",
    "    if(n<=9):\n",
    "        return 0\n",
    "    smallresult=countZeros(n//10)\n",
    "    if(n%10==0):\n",
    "        result=1+smallresult\n",
    "    else:\n",
    "        result=smallresult\n",
    "    return result\n",
    "countZeros(1230344040)"
   ]
  },
  {
   "cell_type": "markdown",
   "id": "3e3868bc",
   "metadata": {},
   "source": [
    "# 6. convert a string no to a integer no\n",
    "ex-\"123\"=123"
   ]
  },
  {
   "cell_type": "code",
   "execution_count": 21,
   "id": "5a3deb14",
   "metadata": {},
   "outputs": [
    {
     "data": {
      "text/plain": [
       "2121"
      ]
     },
     "execution_count": 21,
     "metadata": {},
     "output_type": "execute_result"
    }
   ],
   "source": [
    "def convertToNo(s):\n",
    "    if(len(s)==1):\n",
    "        return int(s)\n",
    "    smallresult=convertToNo(s[:len(s)-1])\n",
    "    result=(int(s[len(s)-1]))+10*smallresult\n",
    "    return result\n",
    "convertToNo('2121')"
   ]
  },
  {
   "cell_type": "markdown",
   "id": "2f63b3f7",
   "metadata": {},
   "source": [
    "# 7. replace identical char by star in between them\n",
    "hello=hel*lo"
   ]
  },
  {
   "cell_type": "code",
   "execution_count": 11,
   "id": "5641c530",
   "metadata": {},
   "outputs": [
    {
     "data": {
      "text/plain": [
       "'ab*bc*c*cde'"
      ]
     },
     "execution_count": 11,
     "metadata": {},
     "output_type": "execute_result"
    }
   ],
   "source": [
    "def replaceStar(s):\n",
    "    if(len(s)==1):\n",
    "        return s\n",
    "    smallresult=replaceStar(s[1:])\n",
    "    if(s[0]==s[1]):\n",
    "        result=s[0]+'*'+smallresult\n",
    "    else:\n",
    "        result=s[0]+smallresult\n",
    "    return result\n",
    "replaceStar('abbcccde')"
   ]
  },
  {
   "cell_type": "markdown",
   "id": "d00731c2",
   "metadata": {},
   "source": [
    "# 8. no of ways child can run up the stairs\n",
    "possible steps are 1,2,3\n",
    "child can take either of these steps"
   ]
  },
  {
   "cell_type": "code",
   "execution_count": 22,
   "id": "63ea41ba",
   "metadata": {},
   "outputs": [
    {
     "data": {
      "text/plain": [
       "900140"
      ]
     },
     "execution_count": 22,
     "metadata": {},
     "output_type": "execute_result"
    }
   ],
   "source": [
    "def noOfWays(noOfStairs):\n",
    "    if(noOfStairs<3):\n",
    "        return noOfStairs\n",
    "    if(noOfStairs==3):\n",
    "        return 4\n",
    "    smallresult=noOfWays(noOfStairs-1)+noOfWays(noOfStairs-2)+noOfWays(noOfStairs-3)\n",
    "    result=1+smallresult\n",
    "    return result\n",
    "noOfWays(23)\n",
    "# very time consuming"
   ]
  }
 ],
 "metadata": {
  "kernelspec": {
   "display_name": "Python 3 (ipykernel)",
   "language": "python",
   "name": "python3"
  },
  "language_info": {
   "codemirror_mode": {
    "name": "ipython",
    "version": 3
   },
   "file_extension": ".py",
   "mimetype": "text/x-python",
   "name": "python",
   "nbconvert_exporter": "python",
   "pygments_lexer": "ipython3",
   "version": "3.9.7"
  }
 },
 "nbformat": 4,
 "nbformat_minor": 5
}
