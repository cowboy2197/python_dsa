{
 "cells": [
  {
   "cell_type": "markdown",
   "id": "3de42046",
   "metadata": {},
   "source": [
    "# 1. remove x from a string recursively\n",
    "ex- xaxabax=aaba"
   ]
  },
  {
   "cell_type": "code",
   "execution_count": 1,
   "id": "043ff3fc",
   "metadata": {},
   "outputs": [
    {
     "data": {
      "text/plain": [
       "'aaabdcafaafa'"
      ]
     },
     "execution_count": 1,
     "metadata": {},
     "output_type": "execute_result"
    }
   ],
   "source": [
    "def removeX(s):\n",
    "#     base case\n",
    "    if(len(s)==0):\n",
    "        return s\n",
    "# small calculation\n",
    "    if(s[0]=='x'):\n",
    "        return removeX(s[1:])\n",
    "#  recursion on smaller prob\n",
    "    else:\n",
    "        return s[0]+removeX(s[1:])\n",
    "removeX('axaxabdcafaxafa')"
   ]
  },
  {
   "cell_type": "markdown",
   "id": "e4ca30c8",
   "metadata": {},
   "source": [
    "# 2. remove duplicate recursively\n",
    " ex-xxxyyyzwwzzz=xyzwz\n"
   ]
  },
  {
   "cell_type": "code",
   "execution_count": 2,
   "id": "c660a50f",
   "metadata": {},
   "outputs": [
    {
     "data": {
      "text/plain": [
       "'xyzwz'"
      ]
     },
     "execution_count": 2,
     "metadata": {},
     "output_type": "execute_result"
    }
   ],
   "source": [
    "def removeDuplicate(s):\n",
    "    if(len(s)==1 or len(s)==0):\n",
    "        return s\n",
    "    if(s[0]==s[1]):\n",
    "        return removeDuplicate(s[1:])\n",
    "    else:\n",
    "        return s[0]+removeDuplicate(s[1:])\n",
    "removeDuplicate('xxxyyyzwwzzz')"
   ]
  },
  {
   "cell_type": "markdown",
   "id": "fe9f5568",
   "metadata": {},
   "source": [
    "# 3. merge sort\n",
    "already solved= break in two halves =call rec on both halves= merge both sorted halves"
   ]
  },
  {
   "cell_type": "code",
   "execution_count": 16,
   "id": "648b7392",
   "metadata": {},
   "outputs": [
    {
     "data": {
      "text/plain": [
       "[1, 2, 7, 23, 24, 89, 94, 3465]"
      ]
     },
     "execution_count": 16,
     "metadata": {},
     "output_type": "execute_result"
    }
   ],
   "source": [
    "def mergeSort(li):\n",
    "    if(len(li)==1):\n",
    "        return li\n",
    "    mid=len(li)//2\n",
    "    smallresult1=mergeSort(li[:mid])\n",
    "    smallresult2=mergeSort(li[mid:])\n",
    "    result=mergeSortedArr(smallresult1,smallresult2)\n",
    "    return result\n",
    "def mergeSortedArr(li1,li2):\n",
    "    i=len(li1)\n",
    "    j=len(li2)\n",
    "    i1,j1=0,0\n",
    "    li=[]\n",
    "    while i1<i and j1<j:\n",
    "        if(li1[i1]<=li2[j1]):\n",
    "            li.append(li1[i1])\n",
    "            i1+=1\n",
    "        else:\n",
    "            li.append(li2[j1])\n",
    "            j1+=1\n",
    "        \n",
    "    while i1<i:\n",
    "        li.append(li1[i1])\n",
    "\n",
    "        i1+=1\n",
    "        \n",
    "    while j1<j:\n",
    "        li.append(li2[j1])\n",
    "        j1+=1\n",
    "    return li\n",
    "mergeSort([1,7,2,89,3465,23,94,24])"
   ]
  },
  {
   "cell_type": "markdown",
   "id": "d8b86c93",
   "metadata": {},
   "source": [
    "# 4. quick sort"
   ]
  },
  {
   "cell_type": "code",
   "execution_count": 1,
   "id": "24d04af8",
   "metadata": {},
   "outputs": [
    {
     "data": {
      "text/plain": [
       "[1, 2, 7, 23, 24, 89, 94, 3465]"
      ]
     },
     "execution_count": 1,
     "metadata": {},
     "output_type": "execute_result"
    }
   ],
   "source": [
    "def partition(li,s,e):\n",
    "    pivot=li[s]\n",
    "    c=0\n",
    "    for i in range(s,e+1):\n",
    "        if(pivot>li[i]):\n",
    "            c+=1\n",
    "    li[s+c],li[s]=li[s],li[s+c]\n",
    "    i=s\n",
    "    j=e\n",
    "    pivotIndex=s+c\n",
    "    while i<j:\n",
    "        if(li[j]>=pivot):\n",
    "            j-=1\n",
    "        elif(li[i]<pivot):\n",
    "            i+=1\n",
    "        else:\n",
    "            li[i],li[j]=li[j],li[i]\n",
    "            i+=1\n",
    "            j-=1\n",
    "    return pivotIndex\n",
    "def quickSort(li,s,e):\n",
    "    if(s>=e):\n",
    "        return li\n",
    "    pivotIndex=partition(li,s,e)\n",
    "    quickSort(li,s,pivotIndex-1)\n",
    "    quickSort(li,pivotIndex+1,e)\n",
    "    return li\n",
    "quickSort([1,7,2,89,3465,23,94,24],0,7)"
   ]
  },
  {
   "cell_type": "markdown",
   "id": "15ce3c99",
   "metadata": {},
   "source": [
    "# 5. tower of hanoi\n",
    "3 rods- move all disks from rod 1 to 3 using rod 2 such that no extra rod is used and no smaller disk \n",
    "comes below bigger disk\n",
    "3 rules\n",
    "1. only 1 disk moves at a time\n",
    "2. a disk can move if it is at the top of the rod\n",
    "3. no disk bigger disk can be placed on top of smaller disk\n",
    "\n",
    "ex-input=2\n",
    "output=\n",
    "a b\n",
    "a c\n",
    "b c"
   ]
  },
  {
   "cell_type": "code",
   "execution_count": 7,
   "id": "ae480a9f",
   "metadata": {},
   "outputs": [
    {
     "name": "stdout",
     "output_type": "stream",
     "text": [
      "a   c\n",
      "a   b\n",
      "c   b\n",
      "a   c\n",
      "b   a\n",
      "b   c\n",
      "a   c\n"
     ]
    }
   ],
   "source": [
    "def towerOfHanoi(n,a,b,c):\n",
    "    if(n==0):\n",
    "        return\n",
    "    if(n==1):\n",
    "        print(a,' ',c)\n",
    "        return\n",
    "    towerOfHanoi(n-1,a,c,b)\n",
    "    print(a,' ',c)\n",
    "    towerOfHanoi(n-1,b,a,c)\n",
    "    return\n",
    "    \n",
    "towerOfHanoi(3,\"a\",'b','c')"
   ]
  }
 ],
 "metadata": {
  "kernelspec": {
   "display_name": "Python 3 (ipykernel)",
   "language": "python",
   "name": "python3"
  },
  "language_info": {
   "codemirror_mode": {
    "name": "ipython",
    "version": 3
   },
   "file_extension": ".py",
   "mimetype": "text/x-python",
   "name": "python",
   "nbconvert_exporter": "python",
   "pygments_lexer": "ipython3",
   "version": "3.9.7"
  }
 },
 "nbformat": 4,
 "nbformat_minor": 5
}
