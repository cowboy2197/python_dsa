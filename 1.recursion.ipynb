{
 "cells": [
  {
   "cell_type": "markdown",
   "id": "af122cc3",
   "metadata": {},
   "source": [
    "# 1. power of a no recursively\n",
    "\n",
    "2**3"
   ]
  },
  {
   "cell_type": "code",
   "execution_count": 1,
   "id": "d7eeee35",
   "metadata": {},
   "outputs": [
    {
     "data": {
      "text/plain": [
       "16"
      ]
     },
     "execution_count": 1,
     "metadata": {},
     "output_type": "execute_result"
    }
   ],
   "source": [
    "def power(n,m):\n",
    "    if(m==1):\n",
    "        return n\n",
    "    smallAnswer=power(n,m-1)\n",
    "    result=n*smallAnswer\n",
    "    return result\n",
    "power(2,4)"
   ]
  },
  {
   "cell_type": "markdown",
   "id": "b4766001",
   "metadata": {},
   "source": [
    "# 2. sum of array recursively"
   ]
  },
  {
   "cell_type": "code",
   "execution_count": 3,
   "id": "6b1f7bd3",
   "metadata": {},
   "outputs": [
    {
     "data": {
      "text/plain": [
       "15"
      ]
     },
     "execution_count": 3,
     "metadata": {},
     "output_type": "execute_result"
    }
   ],
   "source": [
    "def sum(arr):\n",
    "#     base case\n",
    "    if(len(arr)==1):\n",
    "        return arr[0]\n",
    "    smallAnswer=sum(arr[1:])\n",
    "    result=arr[0]+smallAnswer\n",
    "    return result\n",
    "sum([1,2,3,4,5])"
   ]
  },
  {
   "cell_type": "markdown",
   "id": "de42615a",
   "metadata": {},
   "source": [
    "# 3. check no in array"
   ]
  },
  {
   "cell_type": "code",
   "execution_count": 5,
   "id": "dc69a4d4",
   "metadata": {},
   "outputs": [
    {
     "data": {
      "text/plain": [
       "4"
      ]
     },
     "execution_count": 5,
     "metadata": {},
     "output_type": "execute_result"
    }
   ],
   "source": [
    "def checkNo(li,x):\n",
    "    if(len(li)==0):\n",
    "        return -1\n",
    "    if(li[0]==x):\n",
    "        return 1\n",
    "    \n",
    "    smallresult=checkNo(li[1:],x)\n",
    "    if(smallresult==-1):\n",
    "        return -1\n",
    "    else:\n",
    "        return smallresult+1\n",
    "checkNo([1,2,3,4,5,6,7,8],4)"
   ]
  },
  {
   "cell_type": "markdown",
   "id": "cd04b977",
   "metadata": {},
   "source": [
    "# 4. return first index of a no if present else return -1"
   ]
  },
  {
   "cell_type": "code",
   "execution_count": 6,
   "id": "e61e6e53",
   "metadata": {},
   "outputs": [
    {
     "data": {
      "text/plain": [
       "2"
      ]
     },
     "execution_count": 6,
     "metadata": {},
     "output_type": "execute_result"
    }
   ],
   "source": [
    "def firstIndex(li,x):\n",
    "    if(len(li)==0):\n",
    "        return -1\n",
    "    if(li[0]==x):\n",
    "        return 1\n",
    "    smallresult=firstIndex(li[1:],x)\n",
    "    if(smallresult==-1):\n",
    "        return -1\n",
    "    else:\n",
    "        return smallresult+1\n",
    "firstIndex([1,3,6,3,8],3)"
   ]
  },
  {
   "cell_type": "markdown",
   "id": "1fb33f0a",
   "metadata": {},
   "source": [
    "# 5. last index of a no or -1 if absent"
   ]
  },
  {
   "cell_type": "code",
   "execution_count": 12,
   "id": "10df2fc1",
   "metadata": {},
   "outputs": [
    {
     "name": "stdout",
     "output_type": "stream",
     "text": [
      "8\n"
     ]
    }
   ],
   "source": [
    "def lastIndex(li,x):\n",
    "    if(len(li)==0):\n",
    "        return -1\n",
    "    smallresult=lastIndex(li[1:],x)\n",
    "    if(smallresult==-1):\n",
    "        if(li[0]==x):\n",
    "            return 1\n",
    "        else:\n",
    "            return -1\n",
    "    return 1+smallresult\n",
    "print(lastIndex([1,2,3,4,3,6,8,3],3))"
   ]
  }
 ],
 "metadata": {
  "kernelspec": {
   "display_name": "Python 3 (ipykernel)",
   "language": "python",
   "name": "python3"
  },
  "language_info": {
   "codemirror_mode": {
    "name": "ipython",
    "version": 3
   },
   "file_extension": ".py",
   "mimetype": "text/x-python",
   "name": "python",
   "nbconvert_exporter": "python",
   "pygments_lexer": "ipython3",
   "version": "3.9.7"
  }
 },
 "nbformat": 4,
 "nbformat_minor": 5
}
